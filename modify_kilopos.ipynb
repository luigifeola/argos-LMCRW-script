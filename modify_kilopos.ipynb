{
 "cells": [
  {
   "cell_type": "code",
   "execution_count": 1,
   "metadata": {},
   "outputs": [
    {
     "data": {
      "text/html": [
       "<style>.container { width:80% !important; }</style>"
      ],
      "text/plain": [
       "<IPython.core.display.HTML object>"
      ]
     },
     "metadata": {},
     "output_type": "display_data"
    }
   ],
   "source": [
    "from IPython.core.display import display, HTML\n",
    "display(HTML(\"<style>.container { width:80% !important; }</style>\"))"
   ]
  },
  {
   "cell_type": "code",
   "execution_count": 2,
   "metadata": {},
   "outputs": [],
   "source": [
    "from termcolor import colored\n",
    "import numpy as np\n",
    "import os\n",
    "import pandas as pd\n",
    "import matplotlib.pyplot as plt\n",
    "from natsort import natsorted"
   ]
  },
  {
   "cell_type": "code",
   "execution_count": 3,
   "metadata": {},
   "outputs": [],
   "source": [
    "# Display pandas df without truncation\n",
    "pd.set_option('display.max_rows', None)\n",
    "pd.set_option('display.max_columns', None)\n",
    "pd.set_option('display.width', None)\n",
    "pd.set_option('display.max_colwidth', None)"
   ]
  },
  {
   "cell_type": "code",
   "execution_count": null,
   "metadata": {},
   "outputs": [],
   "source": []
  },
  {
   "cell_type": "markdown",
   "metadata": {},
   "source": [
    "# Simulated Results!"
   ]
  },
  {
   "cell_type": "code",
   "execution_count": 4,
   "metadata": {},
   "outputs": [],
   "source": [
    "mainFolderPath = '/home/luigi/Documents/ARGoS/argos-LMCRW-script/results/ALL/Simulated/baseline'"
   ]
  },
  {
   "cell_type": "code",
   "execution_count": null,
   "metadata": {},
   "outputs": [],
   "source": []
  },
  {
   "cell_type": "code",
   "execution_count": 5,
   "metadata": {},
   "outputs": [
    {
     "name": "stdout",
     "output_type": "stream",
     "text": [
      "/home/luigi/Documents/ARGoS/argos-LMCRW-script/results/ALL/Simulated/baseline/2022-03-18_robots#1_alpha#1.8_rho#0.0_baseline_1800\n",
      "SAVING,  baseline_2022-03-18_robots#1_alpha#1.8_rho#0.0_baseline_1800simulated_pos.npy\n",
      "/home/luigi/Documents/ARGoS/argos-LMCRW-script/results/ALL/Simulated/baseline/2021-10-13_robots#1_alpha#1.2_rho#0.3_baseline_1800\n",
      "SAVING,  baseline_2021-10-13_robots#1_alpha#1.2_rho#0.3_baseline_1800simulated_pos.npy\n",
      "/home/luigi/Documents/ARGoS/argos-LMCRW-script/results/ALL/Simulated/baseline/2022-03-18_robots#1_alpha#1.8_rho#0.9_baseline_1800\n",
      "\u001b[31mError, empty file at:/home/luigi/Documents/ARGoS/argos-LMCRW-script/results/ALL/Simulated/baseline/2022-03-18_robots#1_alpha#1.8_rho#0.9_baseline_1800/seed#404_position.tsv\u001b[0m\n",
      "\u001b[31mError, empty file at:/home/luigi/Documents/ARGoS/argos-LMCRW-script/results/ALL/Simulated/baseline/2022-03-18_robots#1_alpha#1.8_rho#0.9_baseline_1800/seed#265_position.tsv\u001b[0m\n",
      "SAVING,  baseline_2022-03-18_robots#1_alpha#1.8_rho#0.9_baseline_1800simulated_pos.npy\n",
      "/home/luigi/Documents/ARGoS/argos-LMCRW-script/results/ALL/Simulated/baseline/2022-03-18_robots#1_alpha#1.4_rho#0.0_baseline_1800\n",
      "\u001b[31mError, empty file at:/home/luigi/Documents/ARGoS/argos-LMCRW-script/results/ALL/Simulated/baseline/2022-03-18_robots#1_alpha#1.4_rho#0.0_baseline_1800/seed#219_position.tsv\u001b[0m\n",
      "\u001b[31mError, empty file at:/home/luigi/Documents/ARGoS/argos-LMCRW-script/results/ALL/Simulated/baseline/2022-03-18_robots#1_alpha#1.4_rho#0.0_baseline_1800/seed#136_position.tsv\u001b[0m\n",
      "SAVING,  baseline_2022-03-18_robots#1_alpha#1.4_rho#0.0_baseline_1800simulated_pos.npy\n",
      "/home/luigi/Documents/ARGoS/argos-LMCRW-script/results/ALL/Simulated/baseline/2021-10-13_robots#1_alpha#1.2_rho#0.6_baseline_1800\n",
      "SAVING,  baseline_2021-10-13_robots#1_alpha#1.2_rho#0.6_baseline_1800simulated_pos.npy\n",
      "/home/luigi/Documents/ARGoS/argos-LMCRW-script/results/ALL/Simulated/baseline/2022-03-18_robots#1_alpha#1.4_rho#0.9_baseline_1800\n",
      "\u001b[31mError, empty file at:/home/luigi/Documents/ARGoS/argos-LMCRW-script/results/ALL/Simulated/baseline/2022-03-18_robots#1_alpha#1.4_rho#0.9_baseline_1800/seed#216_position.tsv\u001b[0m\n",
      "\u001b[31mError, empty file at:/home/luigi/Documents/ARGoS/argos-LMCRW-script/results/ALL/Simulated/baseline/2022-03-18_robots#1_alpha#1.4_rho#0.9_baseline_1800/seed#405_position.tsv\u001b[0m\n",
      "\u001b[31mError, empty file at:/home/luigi/Documents/ARGoS/argos-LMCRW-script/results/ALL/Simulated/baseline/2022-03-18_robots#1_alpha#1.4_rho#0.9_baseline_1800/seed#268_position.tsv\u001b[0m\n",
      "\u001b[31mError, empty file at:/home/luigi/Documents/ARGoS/argos-LMCRW-script/results/ALL/Simulated/baseline/2022-03-18_robots#1_alpha#1.4_rho#0.9_baseline_1800/seed#355_position.tsv\u001b[0m\n",
      "\u001b[31mError, empty file at:/home/luigi/Documents/ARGoS/argos-LMCRW-script/results/ALL/Simulated/baseline/2022-03-18_robots#1_alpha#1.4_rho#0.9_baseline_1800/seed#90_position.tsv\u001b[0m\n",
      "SAVING,  baseline_2022-03-18_robots#1_alpha#1.4_rho#0.9_baseline_1800simulated_pos.npy\n",
      "/home/luigi/Documents/ARGoS/argos-LMCRW-script/results/ALL/Simulated/baseline/2021-10-13_robots#1_alpha#1.2_rho#0.9_baseline_1800\n",
      "SAVING,  baseline_2021-10-13_robots#1_alpha#1.2_rho#0.9_baseline_1800simulated_pos.npy\n",
      "/home/luigi/Documents/ARGoS/argos-LMCRW-script/results/ALL/Simulated/baseline/2021-10-13_robots#1_alpha#2.0_rho#0.3_baseline_1800\n",
      "SAVING,  baseline_2021-10-13_robots#1_alpha#2.0_rho#0.3_baseline_1800simulated_pos.npy\n",
      "/home/luigi/Documents/ARGoS/argos-LMCRW-script/results/ALL/Simulated/baseline/2022-03-18_robots#1_alpha#1.8_rho#0.3_baseline_1800\n",
      "SAVING,  baseline_2022-03-18_robots#1_alpha#1.8_rho#0.3_baseline_1800simulated_pos.npy\n",
      "/home/luigi/Documents/ARGoS/argos-LMCRW-script/results/ALL/Simulated/baseline/2021-10-13_robots#1_alpha#2.0_rho#0.9_baseline_1800\n",
      "SAVING,  baseline_2021-10-13_robots#1_alpha#2.0_rho#0.9_baseline_1800simulated_pos.npy\n",
      "/home/luigi/Documents/ARGoS/argos-LMCRW-script/results/ALL/Simulated/baseline/2022-03-18_robots#1_alpha#1.4_rho#0.6_baseline_1800\n",
      "\u001b[31mError, empty file at:/home/luigi/Documents/ARGoS/argos-LMCRW-script/results/ALL/Simulated/baseline/2022-03-18_robots#1_alpha#1.4_rho#0.6_baseline_1800/seed#254_position.tsv\u001b[0m\n",
      "\u001b[31mError, empty file at:/home/luigi/Documents/ARGoS/argos-LMCRW-script/results/ALL/Simulated/baseline/2022-03-18_robots#1_alpha#1.4_rho#0.6_baseline_1800/seed#61_position.tsv\u001b[0m\n",
      "\u001b[31mError, empty file at:/home/luigi/Documents/ARGoS/argos-LMCRW-script/results/ALL/Simulated/baseline/2022-03-18_robots#1_alpha#1.4_rho#0.6_baseline_1800/seed#482_position.tsv\u001b[0m\n",
      "\u001b[31mError, empty file at:/home/luigi/Documents/ARGoS/argos-LMCRW-script/results/ALL/Simulated/baseline/2022-03-18_robots#1_alpha#1.4_rho#0.6_baseline_1800/seed#64_position.tsv\u001b[0m\n",
      "SAVING,  baseline_2022-03-18_robots#1_alpha#1.4_rho#0.6_baseline_1800simulated_pos.npy\n",
      "/home/luigi/Documents/ARGoS/argos-LMCRW-script/results/ALL/Simulated/baseline/2021-10-13_robots#1_alpha#1.6_rho#0.6_baseline_1800\n",
      "SAVING,  baseline_2021-10-13_robots#1_alpha#1.6_rho#0.6_baseline_1800simulated_pos.npy\n",
      "/home/luigi/Documents/ARGoS/argos-LMCRW-script/results/ALL/Simulated/baseline/2021-10-13_robots#1_alpha#2.0_rho#0.0_baseline_1800\n",
      "SAVING,  baseline_2021-10-13_robots#1_alpha#2.0_rho#0.0_baseline_1800simulated_pos.npy\n",
      "/home/luigi/Documents/ARGoS/argos-LMCRW-script/results/ALL/Simulated/baseline/2021-10-13_robots#1_alpha#1.6_rho#0.9_baseline_1800\n",
      "SAVING,  baseline_2021-10-13_robots#1_alpha#1.6_rho#0.9_baseline_1800simulated_pos.npy\n",
      "/home/luigi/Documents/ARGoS/argos-LMCRW-script/results/ALL/Simulated/baseline/2021-10-13_robots#1_alpha#2.0_rho#0.6_baseline_1800\n",
      "SAVING,  baseline_2021-10-13_robots#1_alpha#2.0_rho#0.6_baseline_1800simulated_pos.npy\n",
      "/home/luigi/Documents/ARGoS/argos-LMCRW-script/results/ALL/Simulated/baseline/2021-10-13_robots#1_alpha#1.6_rho#0.0_baseline_1800\n",
      "SAVING,  baseline_2021-10-13_robots#1_alpha#1.6_rho#0.0_baseline_1800simulated_pos.npy\n",
      "/home/luigi/Documents/ARGoS/argos-LMCRW-script/results/ALL/Simulated/baseline/2022-03-18_robots#1_alpha#1.8_rho#0.6_baseline_1800\n",
      "SAVING,  baseline_2022-03-18_robots#1_alpha#1.8_rho#0.6_baseline_1800simulated_pos.npy\n",
      "/home/luigi/Documents/ARGoS/argos-LMCRW-script/results/ALL/Simulated/baseline/2021-10-13_robots#1_alpha#1.2_rho#0.0_baseline_1800\n",
      "SAVING,  baseline_2021-10-13_robots#1_alpha#1.2_rho#0.0_baseline_1800simulated_pos.npy\n",
      "/home/luigi/Documents/ARGoS/argos-LMCRW-script/results/ALL/Simulated/baseline/2022-03-18_robots#1_alpha#1.4_rho#0.3_baseline_1800\n",
      "\u001b[31mError, empty file at:/home/luigi/Documents/ARGoS/argos-LMCRW-script/results/ALL/Simulated/baseline/2022-03-18_robots#1_alpha#1.4_rho#0.3_baseline_1800/seed#136_position.tsv\u001b[0m\n",
      "SAVING,  baseline_2022-03-18_robots#1_alpha#1.4_rho#0.3_baseline_1800simulated_pos.npy\n",
      "/home/luigi/Documents/ARGoS/argos-LMCRW-script/results/ALL/Simulated/baseline/2021-10-13_robots#1_alpha#1.6_rho#0.3_baseline_1800\n",
      "SAVING,  baseline_2021-10-13_robots#1_alpha#1.6_rho#0.3_baseline_1800simulated_pos.npy\n"
     ]
    }
   ],
   "source": [
    "for dirName, subdirList, fileList in os.walk(mainFolderPath):\n",
    "    if not subdirList:\n",
    "        print(dirName)\n",
    "#         print('\\t', dirName.split(\"/\")[-2])\n",
    "#         print('\\t', dirName.split(\"/\")[-1])\n",
    "        \n",
    "        exp_type = dirName.split(\"/\")[-2]\n",
    "        params = dirName.split(\"/\")[-1]\n",
    "        fullPosition_array = np.array([])\n",
    "        \n",
    "        \n",
    "        for filename in os.listdir(dirName):\n",
    "            if filename.endswith('position.tsv'):\n",
    "                if not os.path.getsize(os.path.join(dirName, filename)) > 0:\n",
    "                    print(colored(\"Error, empty file at:\" + os.path.join(dirName, filename), 'red'))\n",
    "                    continue\n",
    "#                 print('\\t', filename)\n",
    "                df_single = pd.read_csv(os.path.join(dirName, filename), sep=\"\\t\")\n",
    "                [num_times, num_robots] = df_single.T.values[1:].shape\n",
    "#                 print('num_times {}, num_robots {}'.format(num_times, num_robots), end='\\n\\n')\n",
    "                pos_2d = np.array([x.split(',') for x in df_single.T.values[1:].ravel()], dtype=float)\n",
    "                pos_2d = pos_2d.reshape(num_times, num_robots, -1)\n",
    "\n",
    "                fullPosition_array = np.column_stack([fullPosition_array, pos_2d]) if fullPosition_array.size else pos_2d\n",
    "                \n",
    "#         print(fullPosition_array.shape)\n",
    "        fileName = exp_type+'_'+params+'simulated_pos.npy'\n",
    "        np.save(os.path.abspath(os.path.join(mainFolderPath, os.pardir))+'/'+fileName, fullPosition_array)\n",
    "        print(\"SAVING, \", fileName)\n",
    "    "
   ]
  },
  {
   "cell_type": "code",
   "execution_count": null,
   "metadata": {},
   "outputs": [],
   "source": [
    "# fullPosition_array = np.load('results/'+exp_type+'_'+params+'_simulated_pos.npy')"
   ]
  },
  {
   "cell_type": "code",
   "execution_count": null,
   "metadata": {},
   "outputs": [],
   "source": []
  },
  {
   "cell_type": "code",
   "execution_count": null,
   "metadata": {},
   "outputs": [],
   "source": []
  },
  {
   "cell_type": "code",
   "execution_count": null,
   "metadata": {},
   "outputs": [],
   "source": []
  },
  {
   "cell_type": "markdown",
   "metadata": {},
   "source": [
    "# Real Results!"
   ]
  },
  {
   "cell_type": "code",
   "execution_count": null,
   "metadata": {},
   "outputs": [],
   "source": []
  },
  {
   "cell_type": "code",
   "execution_count": null,
   "metadata": {},
   "outputs": [],
   "source": [
    "def check_float(potential_float):\n",
    "    try:\n",
    "        float(potential_float)\n",
    "        return True\n",
    "\n",
    "    except ValueError:\n",
    "        return False"
   ]
  },
  {
   "cell_type": "code",
   "execution_count": null,
   "metadata": {},
   "outputs": [],
   "source": []
  },
  {
   "cell_type": "markdown",
   "metadata": {},
   "source": [
    "### ARK —> ARGoS coordinate system"
   ]
  },
  {
   "cell_type": "code",
   "execution_count": null,
   "metadata": {},
   "outputs": [],
   "source": [
    "ARENA_SIZE = 1875\n",
    "M_TO_PIXEL = 20\n",
    "CM_TO_M = 100"
   ]
  },
  {
   "cell_type": "code",
   "execution_count": null,
   "metadata": {},
   "outputs": [],
   "source": [
    "def x_transform(x_array):\n",
    "    x_trans = ((x_array - (ARENA_SIZE/2))/ M_TO_PIXEL)/CM_TO_M\n",
    "    return x_trans\n",
    "    "
   ]
  },
  {
   "cell_type": "code",
   "execution_count": null,
   "metadata": {},
   "outputs": [],
   "source": [
    "def y_transform(y_array):\n",
    "    y_trans = (((ARENA_SIZE/2) - y_array)/ M_TO_PIXEL) /CM_TO_M\n",
    "    return y_trans"
   ]
  },
  {
   "cell_type": "code",
   "execution_count": null,
   "metadata": {},
   "outputs": [],
   "source": []
  },
  {
   "cell_type": "code",
   "execution_count": null,
   "metadata": {},
   "outputs": [],
   "source": []
  },
  {
   "cell_type": "markdown",
   "metadata": {},
   "source": [
    "### Exp parameters"
   ]
  },
  {
   "cell_type": "code",
   "execution_count": null,
   "metadata": {},
   "outputs": [],
   "source": [
    "fieldsPerKilobot = 6\n",
    "experiment_length = 1800"
   ]
  },
  {
   "cell_type": "code",
   "execution_count": null,
   "metadata": {},
   "outputs": [],
   "source": [
    "def generate_kiloLOG_label(n_rob):\n",
    "    kiloLOG_label = ['time']\n",
    "    for i in range(0, n_rob*fieldsPerKilobot, fieldsPerKilobot):\n",
    "        kiloLOG_label += ['id' + str(i // fieldsPerKilobot), 'col' + str(i // fieldsPerKilobot), 'posx' + str(i // fieldsPerKilobot), 'posy' + str(i // fieldsPerKilobot), 'ori' + str(i // fieldsPerKilobot), 'state' + str(i // fieldsPerKilobot)]\n",
    "    \n",
    "    return kiloLOG_label"
   ]
  },
  {
   "cell_type": "code",
   "execution_count": null,
   "metadata": {},
   "outputs": [],
   "source": [
    "def generate_kiloPOS_label(n_rob):\n",
    "    kiloPOS_label = []\n",
    "    for i in range(n_rob):\n",
    "        kiloPOS_label += [\"posx\"+str(i),\"posy\"+str(i)]\n",
    "        \n",
    "    return kiloPOS_label"
   ]
  },
  {
   "cell_type": "code",
   "execution_count": null,
   "metadata": {},
   "outputs": [],
   "source": []
  },
  {
   "cell_type": "code",
   "execution_count": null,
   "metadata": {},
   "outputs": [],
   "source": []
  },
  {
   "cell_type": "code",
   "execution_count": null,
   "metadata": {},
   "outputs": [],
   "source": [
    "folder_test = ['results/JAN_2022', \n",
    "               'results/FEB_2022_10#robots_TEST', \n",
    "               'results/FEB_2022_5#robots_TEST', \n",
    "               'results/FEB_2022_5#robots_TEST1', \n",
    "               'results/FEB_2022_5#robots_rho#0.0_TEST', \n",
    "               'results/FEB_2022_5#robots_rho#0.9_oldTable',\n",
    "               'results/FEB_2022_5#robots_rho#0.9_oldTable_noRing',\n",
    "               'results/FEB_2022_5#robots_rho#0.9_newTable_exactLinVel',\n",
    "               'results/FEB_2022_5#robots_rho#0.9_newTable_BUG',\n",
    "               'results/FEB_2022_5#robots_rho#0.9_oldTable_BUG',\n",
    "               'results/FEB_2022_10#robots_rho#0.9_oldTable_BUGMIXED',\n",
    "               'results/FEB_2022_5#robots_rho#0.9_oldTable_BUG_wrongCalib',\n",
    "               'results/FEB_2022_5#robots_rho#0.9_oldTable_BUG_correctCalib',\n",
    "               'results/FEB_2022_5#robots_rho#0.9_newBatteries_TEST',\n",
    "               'results/FEB_2022_20#robots_rho#0.9_oldBatteries_TEMP']"
   ]
  },
  {
   "cell_type": "code",
   "execution_count": null,
   "metadata": {},
   "outputs": [],
   "source": [
    "folder_5Minutes = ['results/FEB_2022_5MinutesTest']"
   ]
  },
  {
   "cell_type": "code",
   "execution_count": null,
   "metadata": {},
   "outputs": [],
   "source": [
    "main_folder = os.getcwd()\n",
    "folder_experiments = 'results/ALL/Real'\n",
    "\n",
    "num_point_in_time = 181\n",
    "\n",
    "if(folder_experiments in folder_test):\n",
    "    num_point_in_time = 61\n",
    "    \n",
    "elif(folder_experiments in folder_5Minutes):\n",
    "    num_point_in_time = 31\n",
    "    \n",
    "    \n",
    "print(\"Exp lenght: \", num_point_in_time)"
   ]
  },
  {
   "cell_type": "code",
   "execution_count": null,
   "metadata": {},
   "outputs": [],
   "source": [
    "for dirName, subdirList, fileList in natsorted(os.walk(os.path.join(main_folder,folder_experiments))):\n",
    "    \n",
    "    num_robots = \"-1\"\n",
    "    rho = -1.0\n",
    "    alpha = -1.0\n",
    "    elements = dirName.split(\"/\")[-1].split(\"_\")\n",
    "    for e in elements:\n",
    "        if e.endswith(\"robots\"):\n",
    "            num_robots = e.split(\"#\")[0]\n",
    "\n",
    "        if (e.startswith(\"rho\")):\n",
    "            if check_float(e.split(\"#\")[-1]): rho = float(e.split(\"#\")[-1])\n",
    "        if (e.startswith(\"alpha\")):\n",
    "            if check_float(e.split(\"#\")[-1]): alpha = float(e.split(\"#\")[-1])\n",
    "    \n",
    "    if num_robots == \"-1\" or rho == -1.0 or alpha == -1:\n",
    "        continue\n",
    "    \n",
    "    print(colored(\"DirName:\", 'blue'),dirName)\n",
    "    print('num_robots {}, rho {}, alpha {}'.format(num_robots, rho, alpha), end='\\n\\n')\n",
    "        \n",
    "        \n",
    "    fullPosition_array = np.array([])\n",
    "    \n",
    "    for filename in natsorted(fileList):\n",
    "        if filename.endswith('kilopos.txt'):\n",
    "            print('\\t', filename)\n",
    "            if not os.path.getsize(os.path.join(dirName, filename)) > 0:\n",
    "                print(\"Error, empty file at:\" + os.path.join(fileList, filename))\n",
    "                continue\n",
    "            df_single = pd.read_csv(os.path.join(dirName, filename), sep=\"\\t\", header=None)\n",
    "            kiloLOG_label = generate_kiloLOG_label(int(num_robots))\n",
    "            df_single.columns = kiloLOG_label\n",
    "#             df_single = df_single[df_single['time'] < experiment_length+1]\n",
    "            kiloPOS_label = generate_kiloPOS_label(int(num_robots))\n",
    "        \n",
    "            #take each tenth-row, and select [0,1800] time interval\n",
    "            df_selection = df_single[kiloPOS_label].iloc[::10].iloc[:num_point_in_time]\n",
    "            #così è diviso in ordine del tempo\n",
    "            np_position = df_selection.to_numpy()\n",
    "            np_position[:,::2] = x_transform(np_position[:,::2])\n",
    "            np_position[:,1::2] = y_transform(np_position[:,1::2])\n",
    "            np_position = np_position.reshape(df_selection.shape[0], int(num_robots), -1)\n",
    "            fullPosition_array = np.column_stack([fullPosition_array, np_position]) if fullPosition_array.size else np_position\n",
    "        \n",
    "    print(fullPosition_array.shape)\n",
    "    fileName = 'robots#'+str(num_robots)+'_alpha#'+str(alpha)+'_rho#'+str(rho)+'_real_pos.npy'\n",
    "    filePath = os.path.join(main_folder,folder_experiments, fileName)\n",
    "    print('Saving: ', filePath)\n",
    "    np.save(filePath, fullPosition_array)\n",
    "        "
   ]
  },
  {
   "cell_type": "code",
   "execution_count": null,
   "metadata": {},
   "outputs": [],
   "source": []
  }
 ],
 "metadata": {
  "kernelspec": {
   "display_name": "Python 3",
   "language": "python",
   "name": "python3"
  },
  "language_info": {
   "codemirror_mode": {
    "name": "ipython",
    "version": 3
   },
   "file_extension": ".py",
   "mimetype": "text/x-python",
   "name": "python",
   "nbconvert_exporter": "python",
   "pygments_lexer": "ipython3",
   "version": "3.8.10"
  }
 },
 "nbformat": 4,
 "nbformat_minor": 4
}
