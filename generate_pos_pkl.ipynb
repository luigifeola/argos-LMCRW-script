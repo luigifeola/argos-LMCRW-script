{
 "cells": [
  {
   "cell_type": "code",
   "execution_count": 10,
   "metadata": {},
   "outputs": [
    {
     "data": {
      "text/html": [
       "<style>.container { width:90% !important; }</style>"
      ],
      "text/plain": [
       "<IPython.core.display.HTML object>"
      ]
     },
     "metadata": {},
     "output_type": "display_data"
    }
   ],
   "source": [
    "from IPython.core.display import display, HTML\n",
    "display(HTML(\"<style>.container { width:90% !important; }</style>\"))"
   ]
  },
  {
   "cell_type": "code",
   "execution_count": 4,
   "metadata": {},
   "outputs": [],
   "source": [
    "from termcolor import colored\n",
    "import numpy as np\n",
    "import os, errno\n",
    "import pandas as pd\n",
    "from natsort import natsorted"
   ]
  },
  {
   "cell_type": "code",
   "execution_count": 5,
   "metadata": {},
   "outputs": [],
   "source": [
    "# Display pandas df without truncation\n",
    "pd.set_option('display.max_rows', None)\n",
    "pd.set_option('display.max_columns', None)\n",
    "pd.set_option('display.width', None)\n",
    "pd.set_option('display.max_colwidth', None)"
   ]
  },
  {
   "cell_type": "code",
   "execution_count": null,
   "metadata": {},
   "outputs": [],
   "source": []
  },
  {
   "cell_type": "code",
   "execution_count": 7,
   "metadata": {},
   "outputs": [
    {
     "data": {
      "text/plain": [
       "'/home/luigi/Documents/ARGoS/argos-LMCRW-script'"
      ]
     },
     "execution_count": 7,
     "metadata": {},
     "output_type": "execute_result"
    }
   ],
   "source": [
    "main_folder = os.getcwd()\n",
    "main_folder"
   ]
  },
  {
   "cell_type": "code",
   "execution_count": 8,
   "metadata": {},
   "outputs": [
    {
     "data": {
      "text/plain": [
       "'/home/luigi/Documents/ARGoS/argos-LMCRW-script/results/JAN_2023'"
      ]
     },
     "execution_count": 8,
     "metadata": {},
     "output_type": "execute_result"
    }
   ],
   "source": [
    "data_folder = os.path.join(main_folder, \"results\", \"JAN_2023\")\n",
    "data_folder"
   ]
  },
  {
   "cell_type": "code",
   "execution_count": 9,
   "metadata": {},
   "outputs": [
    {
     "name": "stdout",
     "output_type": "stream",
     "text": [
      "\u001b[32mOK folder /home/luigi/Documents/ARGoS/argos-LMCRW-script/results/JAN_2023 exists\u001b[0m\n"
     ]
    }
   ],
   "source": [
    "if not os.path.exists(data_folder):\n",
    "    print(colored(f\"ERROR! folder {data_folder} does not exists\", 'red'))\n",
    "else:\n",
    "    print(colored(f\"OK folder {data_folder} exists\", 'green'))"
   ]
  },
  {
   "cell_type": "code",
   "execution_count": null,
   "metadata": {},
   "outputs": [],
   "source": []
  },
  {
   "cell_type": "code",
   "execution_count": null,
   "metadata": {},
   "outputs": [],
   "source": []
  },
  {
   "cell_type": "code",
   "execution_count": 44,
   "metadata": {},
   "outputs": [],
   "source": [
    "def get_robotDf_label(numRobot):\n",
    "    fieldsPerRobot = 5\n",
    "    robotPos_label = ['time']\n",
    "    for i in range(0, numRobot * fieldsPerRobot, fieldsPerRobot):\n",
    "        robotPos_label += ['id' + str(i // fieldsPerRobot),\n",
    "                           'posx' + str(i // fieldsPerRobot),\n",
    "                           'posy' + str(i // fieldsPerRobot),\n",
    "                           'ori' + str(i // fieldsPerRobot),\n",
    "                           'state' + str(i // fieldsPerRobot)]\n",
    "    return robotPos_label"
   ]
  },
  {
   "cell_type": "code",
   "execution_count": 45,
   "metadata": {},
   "outputs": [],
   "source": [
    "def get_robotPos_label(numRobot):\n",
    "    fieldsPerRobot = 2\n",
    "    robotPos_label = []\n",
    "    for i in range(0, numRobot * fieldsPerRobot, fieldsPerRobot):\n",
    "        robotPos_label += ['posx' + str(i // fieldsPerRobot),\n",
    "                           'posy' + str(i // fieldsPerRobot)]\n",
    "    return robotPos_label"
   ]
  },
  {
   "cell_type": "code",
   "execution_count": 46,
   "metadata": {},
   "outputs": [
    {
     "data": {
      "text/plain": [
       "['time',\n",
       " 'id0',\n",
       " 'posx0',\n",
       " 'posy0',\n",
       " 'ori0',\n",
       " 'state0',\n",
       " 'id1',\n",
       " 'posx1',\n",
       " 'posy1',\n",
       " 'ori1',\n",
       " 'state1',\n",
       " 'id2',\n",
       " 'posx2',\n",
       " 'posy2',\n",
       " 'ori2',\n",
       " 'state2',\n",
       " 'id3',\n",
       " 'posx3',\n",
       " 'posy3',\n",
       " 'ori3',\n",
       " 'state3']"
      ]
     },
     "execution_count": 46,
     "metadata": {},
     "output_type": "execute_result"
    }
   ],
   "source": [
    "get_robotDf_label(4)"
   ]
  },
  {
   "cell_type": "code",
   "execution_count": 47,
   "metadata": {
    "scrolled": false
   },
   "outputs": [
    {
     "data": {
      "text/plain": [
       "['posx0', 'posy0', 'posx1', 'posy1', 'posx2', 'posy2', 'posx3', 'posy3']"
      ]
     },
     "execution_count": 47,
     "metadata": {},
     "output_type": "execute_result"
    }
   ],
   "source": [
    "get_robotPos_label(4)"
   ]
  },
  {
   "cell_type": "code",
   "execution_count": 203,
   "metadata": {},
   "outputs": [],
   "source": [
    "# experiment = 'simple_experiment'\n",
    "# experiment = 'open_space'\n",
    "# experiment = 'open_space_target100cm'\n",
    "# experiment = 'random_angle'\n",
    "experiment = 'bouncing_angle'"
   ]
  },
  {
   "cell_type": "code",
   "execution_count": null,
   "metadata": {},
   "outputs": [],
   "source": []
  },
  {
   "cell_type": "code",
   "execution_count": 204,
   "metadata": {},
   "outputs": [
    {
     "name": "stdout",
     "output_type": "stream",
     "text": [
      "\u001b[34mDirName:\u001b[0m /home/luigi/Documents/ARGoS/argos-LMCRW-script/results/JAN_2023/Simulated/bouncing_angle/2022-12-06_robots#100_alpha#1.4_rho#0.9_1800\n",
      "Num robots: 100\n",
      "\u001b[32mMkdir folder /home/luigi/Documents/ARGoS/argos-LMCRW-script/results/JAN_2023/pos_pkl/Simulated/bouncing_angle\u001b[0m\n",
      "Saving concatenated positions at: /home/luigi/Documents/ARGoS/argos-LMCRW-script/results/JAN_2023/pos_pkl/Simulated/bouncing_angle/2022-12-06_robots#100_alpha#1.4_rho#0.9_1800.npy\n",
      "\u001b[34mDirName:\u001b[0m /home/luigi/Documents/ARGoS/argos-LMCRW-script/results/JAN_2023/Simulated/bouncing_angle/2022-12-06_robots#100_alpha#1.8_rho#0.0_1800\n",
      "Num robots: 100\n",
      "Saving concatenated positions at: /home/luigi/Documents/ARGoS/argos-LMCRW-script/results/JAN_2023/pos_pkl/Simulated/bouncing_angle/2022-12-06_robots#100_alpha#1.8_rho#0.0_1800.npy\n",
      "\u001b[34mDirName:\u001b[0m /home/luigi/Documents/ARGoS/argos-LMCRW-script/results/JAN_2023/Simulated/bouncing_angle/2022-12-06_robots#10_alpha#2.0_rho#0.9_1800\n",
      "Num robots: 10\n",
      "Saving concatenated positions at: /home/luigi/Documents/ARGoS/argos-LMCRW-script/results/JAN_2023/pos_pkl/Simulated/bouncing_angle/2022-12-06_robots#10_alpha#2.0_rho#0.9_1800.npy\n",
      "\u001b[34mDirName:\u001b[0m /home/luigi/Documents/ARGoS/argos-LMCRW-script/results/JAN_2023/Simulated/bouncing_angle/2022-12-06_robots#50_alpha#1.2_rho#0.3_1800\n",
      "Num robots: 50\n",
      "Saving concatenated positions at: /home/luigi/Documents/ARGoS/argos-LMCRW-script/results/JAN_2023/pos_pkl/Simulated/bouncing_angle/2022-12-06_robots#50_alpha#1.2_rho#0.3_1800.npy\n",
      "\u001b[34mDirName:\u001b[0m /home/luigi/Documents/ARGoS/argos-LMCRW-script/results/JAN_2023/Simulated/bouncing_angle/2022-12-06_robots#10_alpha#1.8_rho#0.6_1800\n",
      "Num robots: 10\n",
      "Saving concatenated positions at: /home/luigi/Documents/ARGoS/argos-LMCRW-script/results/JAN_2023/pos_pkl/Simulated/bouncing_angle/2022-12-06_robots#10_alpha#1.8_rho#0.6_1800.npy\n",
      "\u001b[34mDirName:\u001b[0m /home/luigi/Documents/ARGoS/argos-LMCRW-script/results/JAN_2023/Simulated/bouncing_angle/2022-12-06_robots#50_alpha#1.8_rho#0.6_1800\n",
      "Num robots: 50\n",
      "Saving concatenated positions at: /home/luigi/Documents/ARGoS/argos-LMCRW-script/results/JAN_2023/pos_pkl/Simulated/bouncing_angle/2022-12-06_robots#50_alpha#1.8_rho#0.6_1800.npy\n",
      "\u001b[34mDirName:\u001b[0m /home/luigi/Documents/ARGoS/argos-LMCRW-script/results/JAN_2023/Simulated/bouncing_angle/2022-12-06_robots#50_alpha#1.8_rho#0.0_1800\n",
      "Num robots: 50\n",
      "Saving concatenated positions at: /home/luigi/Documents/ARGoS/argos-LMCRW-script/results/JAN_2023/pos_pkl/Simulated/bouncing_angle/2022-12-06_robots#50_alpha#1.8_rho#0.0_1800.npy\n",
      "\u001b[34mDirName:\u001b[0m /home/luigi/Documents/ARGoS/argos-LMCRW-script/results/JAN_2023/Simulated/bouncing_angle/2022-12-06_robots#100_alpha#1.4_rho#0.0_1800\n",
      "Num robots: 100\n",
      "Saving concatenated positions at: /home/luigi/Documents/ARGoS/argos-LMCRW-script/results/JAN_2023/pos_pkl/Simulated/bouncing_angle/2022-12-06_robots#100_alpha#1.4_rho#0.0_1800.npy\n",
      "\u001b[34mDirName:\u001b[0m /home/luigi/Documents/ARGoS/argos-LMCRW-script/results/JAN_2023/Simulated/bouncing_angle/2022-12-06_robots#50_alpha#2.0_rho#0.6_1800\n",
      "Num robots: 50\n",
      "Saving concatenated positions at: /home/luigi/Documents/ARGoS/argos-LMCRW-script/results/JAN_2023/pos_pkl/Simulated/bouncing_angle/2022-12-06_robots#50_alpha#2.0_rho#0.6_1800.npy\n",
      "\u001b[34mDirName:\u001b[0m /home/luigi/Documents/ARGoS/argos-LMCRW-script/results/JAN_2023/Simulated/bouncing_angle/2022-12-06_robots#10_alpha#1.2_rho#0.3_1800\n",
      "Num robots: 10\n",
      "Saving concatenated positions at: /home/luigi/Documents/ARGoS/argos-LMCRW-script/results/JAN_2023/pos_pkl/Simulated/bouncing_angle/2022-12-06_robots#10_alpha#1.2_rho#0.3_1800.npy\n",
      "\u001b[34mDirName:\u001b[0m /home/luigi/Documents/ARGoS/argos-LMCRW-script/results/JAN_2023/Simulated/bouncing_angle/2022-12-06_robots#100_alpha#2.0_rho#0.0_1800\n",
      "Num robots: 100\n",
      "Saving concatenated positions at: /home/luigi/Documents/ARGoS/argos-LMCRW-script/results/JAN_2023/pos_pkl/Simulated/bouncing_angle/2022-12-06_robots#100_alpha#2.0_rho#0.0_1800.npy\n",
      "\u001b[34mDirName:\u001b[0m /home/luigi/Documents/ARGoS/argos-LMCRW-script/results/JAN_2023/Simulated/bouncing_angle/2022-12-06_robots#10_alpha#2.0_rho#0.3_1800\n",
      "Num robots: 10\n",
      "Saving concatenated positions at: /home/luigi/Documents/ARGoS/argos-LMCRW-script/results/JAN_2023/pos_pkl/Simulated/bouncing_angle/2022-12-06_robots#10_alpha#2.0_rho#0.3_1800.npy\n",
      "\u001b[34mDirName:\u001b[0m /home/luigi/Documents/ARGoS/argos-LMCRW-script/results/JAN_2023/Simulated/bouncing_angle/2022-12-06_robots#50_alpha#1.4_rho#0.0_1800\n",
      "Num robots: 50\n",
      "Saving concatenated positions at: /home/luigi/Documents/ARGoS/argos-LMCRW-script/results/JAN_2023/pos_pkl/Simulated/bouncing_angle/2022-12-06_robots#50_alpha#1.4_rho#0.0_1800.npy\n",
      "\u001b[34mDirName:\u001b[0m /home/luigi/Documents/ARGoS/argos-LMCRW-script/results/JAN_2023/Simulated/bouncing_angle/2022-12-06_robots#10_alpha#1.6_rho#0.9_1800\n",
      "Num robots: 10\n",
      "Saving concatenated positions at: /home/luigi/Documents/ARGoS/argos-LMCRW-script/results/JAN_2023/pos_pkl/Simulated/bouncing_angle/2022-12-06_robots#10_alpha#1.6_rho#0.9_1800.npy\n",
      "\u001b[34mDirName:\u001b[0m /home/luigi/Documents/ARGoS/argos-LMCRW-script/results/JAN_2023/Simulated/bouncing_angle/2022-12-06_robots#50_alpha#1.4_rho#0.6_1800\n",
      "Num robots: 50\n",
      "Saving concatenated positions at: /home/luigi/Documents/ARGoS/argos-LMCRW-script/results/JAN_2023/pos_pkl/Simulated/bouncing_angle/2022-12-06_robots#50_alpha#1.4_rho#0.6_1800.npy\n",
      "\u001b[34mDirName:\u001b[0m /home/luigi/Documents/ARGoS/argos-LMCRW-script/results/JAN_2023/Simulated/bouncing_angle/2022-12-06_robots#20_alpha#1.8_rho#0.3_1800\n",
      "Num robots: 20\n",
      "Saving concatenated positions at: /home/luigi/Documents/ARGoS/argos-LMCRW-script/results/JAN_2023/pos_pkl/Simulated/bouncing_angle/2022-12-06_robots#20_alpha#1.8_rho#0.3_1800.npy\n",
      "\u001b[34mDirName:\u001b[0m /home/luigi/Documents/ARGoS/argos-LMCRW-script/results/JAN_2023/Simulated/bouncing_angle/2022-12-06_robots#50_alpha#1.4_rho#0.9_1800\n",
      "Num robots: 50\n",
      "Saving concatenated positions at: /home/luigi/Documents/ARGoS/argos-LMCRW-script/results/JAN_2023/pos_pkl/Simulated/bouncing_angle/2022-12-06_robots#50_alpha#1.4_rho#0.9_1800.npy\n",
      "\u001b[34mDirName:\u001b[0m /home/luigi/Documents/ARGoS/argos-LMCRW-script/results/JAN_2023/Simulated/bouncing_angle/2022-12-06_robots#10_alpha#1.4_rho#0.9_1800\n",
      "Num robots: 10\n",
      "Saving concatenated positions at: /home/luigi/Documents/ARGoS/argos-LMCRW-script/results/JAN_2023/pos_pkl/Simulated/bouncing_angle/2022-12-06_robots#10_alpha#1.4_rho#0.9_1800.npy\n",
      "\u001b[34mDirName:\u001b[0m /home/luigi/Documents/ARGoS/argos-LMCRW-script/results/JAN_2023/Simulated/bouncing_angle/2022-12-06_robots#100_alpha#1.6_rho#0.0_1800\n",
      "Num robots: 100\n",
      "Saving concatenated positions at: /home/luigi/Documents/ARGoS/argos-LMCRW-script/results/JAN_2023/pos_pkl/Simulated/bouncing_angle/2022-12-06_robots#100_alpha#1.6_rho#0.0_1800.npy\n",
      "\u001b[34mDirName:\u001b[0m /home/luigi/Documents/ARGoS/argos-LMCRW-script/results/JAN_2023/Simulated/bouncing_angle/2022-12-06_robots#20_alpha#1.2_rho#0.0_1800\n",
      "Num robots: 20\n",
      "Saving concatenated positions at: /home/luigi/Documents/ARGoS/argos-LMCRW-script/results/JAN_2023/pos_pkl/Simulated/bouncing_angle/2022-12-06_robots#20_alpha#1.2_rho#0.0_1800.npy\n",
      "\u001b[34mDirName:\u001b[0m /home/luigi/Documents/ARGoS/argos-LMCRW-script/results/JAN_2023/Simulated/bouncing_angle/2022-12-06_robots#20_alpha#2.0_rho#0.6_1800\n",
      "Num robots: 20\n",
      "Saving concatenated positions at: /home/luigi/Documents/ARGoS/argos-LMCRW-script/results/JAN_2023/pos_pkl/Simulated/bouncing_angle/2022-12-06_robots#20_alpha#2.0_rho#0.6_1800.npy\n",
      "\u001b[34mDirName:\u001b[0m /home/luigi/Documents/ARGoS/argos-LMCRW-script/results/JAN_2023/Simulated/bouncing_angle/2022-12-06_robots#100_alpha#2.0_rho#0.3_1800\n",
      "Num robots: 100\n",
      "Saving concatenated positions at: /home/luigi/Documents/ARGoS/argos-LMCRW-script/results/JAN_2023/pos_pkl/Simulated/bouncing_angle/2022-12-06_robots#100_alpha#2.0_rho#0.3_1800.npy\n",
      "\u001b[34mDirName:\u001b[0m /home/luigi/Documents/ARGoS/argos-LMCRW-script/results/JAN_2023/Simulated/bouncing_angle/2022-12-06_robots#10_alpha#2.0_rho#0.6_1800\n",
      "Num robots: 10\n",
      "Saving concatenated positions at: /home/luigi/Documents/ARGoS/argos-LMCRW-script/results/JAN_2023/pos_pkl/Simulated/bouncing_angle/2022-12-06_robots#10_alpha#2.0_rho#0.6_1800.npy\n",
      "\u001b[34mDirName:\u001b[0m /home/luigi/Documents/ARGoS/argos-LMCRW-script/results/JAN_2023/Simulated/bouncing_angle/2022-12-06_robots#20_alpha#1.4_rho#0.3_1800\n",
      "Num robots: 20\n"
     ]
    },
    {
     "name": "stdout",
     "output_type": "stream",
     "text": [
      "Saving concatenated positions at: /home/luigi/Documents/ARGoS/argos-LMCRW-script/results/JAN_2023/pos_pkl/Simulated/bouncing_angle/2022-12-06_robots#20_alpha#1.4_rho#0.3_1800.npy\n",
      "\u001b[34mDirName:\u001b[0m /home/luigi/Documents/ARGoS/argos-LMCRW-script/results/JAN_2023/Simulated/bouncing_angle/2022-12-06_robots#50_alpha#1.8_rho#0.3_1800\n",
      "Num robots: 50\n",
      "Saving concatenated positions at: /home/luigi/Documents/ARGoS/argos-LMCRW-script/results/JAN_2023/pos_pkl/Simulated/bouncing_angle/2022-12-06_robots#50_alpha#1.8_rho#0.3_1800.npy\n",
      "\u001b[34mDirName:\u001b[0m /home/luigi/Documents/ARGoS/argos-LMCRW-script/results/JAN_2023/Simulated/bouncing_angle/2022-12-06_robots#20_alpha#1.8_rho#0.6_1800\n",
      "Num robots: 20\n",
      "Saving concatenated positions at: /home/luigi/Documents/ARGoS/argos-LMCRW-script/results/JAN_2023/pos_pkl/Simulated/bouncing_angle/2022-12-06_robots#20_alpha#1.8_rho#0.6_1800.npy\n",
      "\u001b[34mDirName:\u001b[0m /home/luigi/Documents/ARGoS/argos-LMCRW-script/results/JAN_2023/Simulated/bouncing_angle/2022-12-06_robots#100_alpha#1.2_rho#0.3_1800\n",
      "Num robots: 100\n",
      "Saving concatenated positions at: /home/luigi/Documents/ARGoS/argos-LMCRW-script/results/JAN_2023/pos_pkl/Simulated/bouncing_angle/2022-12-06_robots#100_alpha#1.2_rho#0.3_1800.npy\n",
      "\u001b[34mDirName:\u001b[0m /home/luigi/Documents/ARGoS/argos-LMCRW-script/results/JAN_2023/Simulated/bouncing_angle/2022-12-06_robots#10_alpha#1.2_rho#0.0_1800\n",
      "Num robots: 10\n",
      "Saving concatenated positions at: /home/luigi/Documents/ARGoS/argos-LMCRW-script/results/JAN_2023/pos_pkl/Simulated/bouncing_angle/2022-12-06_robots#10_alpha#1.2_rho#0.0_1800.npy\n",
      "\u001b[34mDirName:\u001b[0m /home/luigi/Documents/ARGoS/argos-LMCRW-script/results/JAN_2023/Simulated/bouncing_angle/2022-12-06_robots#10_alpha#1.4_rho#0.3_1800\n",
      "Num robots: 10\n",
      "Saving concatenated positions at: /home/luigi/Documents/ARGoS/argos-LMCRW-script/results/JAN_2023/pos_pkl/Simulated/bouncing_angle/2022-12-06_robots#10_alpha#1.4_rho#0.3_1800.npy\n",
      "\u001b[34mDirName:\u001b[0m /home/luigi/Documents/ARGoS/argos-LMCRW-script/results/JAN_2023/Simulated/bouncing_angle/2022-12-06_robots#50_alpha#1.6_rho#0.3_1800\n",
      "Num robots: 50\n",
      "Saving concatenated positions at: /home/luigi/Documents/ARGoS/argos-LMCRW-script/results/JAN_2023/pos_pkl/Simulated/bouncing_angle/2022-12-06_robots#50_alpha#1.6_rho#0.3_1800.npy\n",
      "\u001b[34mDirName:\u001b[0m /home/luigi/Documents/ARGoS/argos-LMCRW-script/results/JAN_2023/Simulated/bouncing_angle/2022-12-06_robots#100_alpha#1.2_rho#0.9_1800\n",
      "Num robots: 100\n",
      "Saving concatenated positions at: /home/luigi/Documents/ARGoS/argos-LMCRW-script/results/JAN_2023/pos_pkl/Simulated/bouncing_angle/2022-12-06_robots#100_alpha#1.2_rho#0.9_1800.npy\n",
      "\u001b[34mDirName:\u001b[0m /home/luigi/Documents/ARGoS/argos-LMCRW-script/results/JAN_2023/Simulated/bouncing_angle/2022-12-06_robots#100_alpha#1.6_rho#0.9_1800\n",
      "Num robots: 100\n",
      "Saving concatenated positions at: /home/luigi/Documents/ARGoS/argos-LMCRW-script/results/JAN_2023/pos_pkl/Simulated/bouncing_angle/2022-12-06_robots#100_alpha#1.6_rho#0.9_1800.npy\n",
      "\u001b[34mDirName:\u001b[0m /home/luigi/Documents/ARGoS/argos-LMCRW-script/results/JAN_2023/Simulated/bouncing_angle/2022-12-06_robots#10_alpha#1.4_rho#0.6_1800\n",
      "Num robots: 10\n",
      "Saving concatenated positions at: /home/luigi/Documents/ARGoS/argos-LMCRW-script/results/JAN_2023/pos_pkl/Simulated/bouncing_angle/2022-12-06_robots#10_alpha#1.4_rho#0.6_1800.npy\n",
      "\u001b[34mDirName:\u001b[0m /home/luigi/Documents/ARGoS/argos-LMCRW-script/results/JAN_2023/Simulated/bouncing_angle/2022-12-06_robots#10_alpha#1.8_rho#0.9_1800\n",
      "Num robots: 10\n",
      "Saving concatenated positions at: /home/luigi/Documents/ARGoS/argos-LMCRW-script/results/JAN_2023/pos_pkl/Simulated/bouncing_angle/2022-12-06_robots#10_alpha#1.8_rho#0.9_1800.npy\n",
      "\u001b[34mDirName:\u001b[0m /home/luigi/Documents/ARGoS/argos-LMCRW-script/results/JAN_2023/Simulated/bouncing_angle/2022-12-06_robots#20_alpha#1.2_rho#0.3_1800\n",
      "Num robots: 20\n",
      "Saving concatenated positions at: /home/luigi/Documents/ARGoS/argos-LMCRW-script/results/JAN_2023/pos_pkl/Simulated/bouncing_angle/2022-12-06_robots#20_alpha#1.2_rho#0.3_1800.npy\n",
      "\u001b[34mDirName:\u001b[0m /home/luigi/Documents/ARGoS/argos-LMCRW-script/results/JAN_2023/Simulated/bouncing_angle/2022-12-06_robots#20_alpha#1.6_rho#0.9_1800\n",
      "Num robots: 20\n",
      "Saving concatenated positions at: /home/luigi/Documents/ARGoS/argos-LMCRW-script/results/JAN_2023/pos_pkl/Simulated/bouncing_angle/2022-12-06_robots#20_alpha#1.6_rho#0.9_1800.npy\n",
      "\u001b[34mDirName:\u001b[0m /home/luigi/Documents/ARGoS/argos-LMCRW-script/results/JAN_2023/Simulated/bouncing_angle/2022-12-06_robots#20_alpha#1.4_rho#0.6_1800\n",
      "Num robots: 20\n",
      "Saving concatenated positions at: /home/luigi/Documents/ARGoS/argos-LMCRW-script/results/JAN_2023/pos_pkl/Simulated/bouncing_angle/2022-12-06_robots#20_alpha#1.4_rho#0.6_1800.npy\n",
      "\u001b[34mDirName:\u001b[0m /home/luigi/Documents/ARGoS/argos-LMCRW-script/results/JAN_2023/Simulated/bouncing_angle/2022-12-06_robots#50_alpha#1.4_rho#0.3_1800\n",
      "Num robots: 50\n",
      "Saving concatenated positions at: /home/luigi/Documents/ARGoS/argos-LMCRW-script/results/JAN_2023/pos_pkl/Simulated/bouncing_angle/2022-12-06_robots#50_alpha#1.4_rho#0.3_1800.npy\n",
      "\u001b[34mDirName:\u001b[0m /home/luigi/Documents/ARGoS/argos-LMCRW-script/results/JAN_2023/Simulated/bouncing_angle/2022-12-06_robots#50_alpha#1.6_rho#0.9_1800\n",
      "Num robots: 50\n",
      "Saving concatenated positions at: /home/luigi/Documents/ARGoS/argos-LMCRW-script/results/JAN_2023/pos_pkl/Simulated/bouncing_angle/2022-12-06_robots#50_alpha#1.6_rho#0.9_1800.npy\n",
      "\u001b[34mDirName:\u001b[0m /home/luigi/Documents/ARGoS/argos-LMCRW-script/results/JAN_2023/Simulated/bouncing_angle/2022-12-06_robots#50_alpha#1.2_rho#0.6_1800\n",
      "Num robots: 50\n",
      "Saving concatenated positions at: /home/luigi/Documents/ARGoS/argos-LMCRW-script/results/JAN_2023/pos_pkl/Simulated/bouncing_angle/2022-12-06_robots#50_alpha#1.2_rho#0.6_1800.npy\n",
      "\u001b[34mDirName:\u001b[0m /home/luigi/Documents/ARGoS/argos-LMCRW-script/results/JAN_2023/Simulated/bouncing_angle/2022-12-06_robots#10_alpha#1.6_rho#0.3_1800\n",
      "Num robots: 10\n",
      "Saving concatenated positions at: /home/luigi/Documents/ARGoS/argos-LMCRW-script/results/JAN_2023/pos_pkl/Simulated/bouncing_angle/2022-12-06_robots#10_alpha#1.6_rho#0.3_1800.npy\n",
      "\u001b[34mDirName:\u001b[0m /home/luigi/Documents/ARGoS/argos-LMCRW-script/results/JAN_2023/Simulated/bouncing_angle/2022-12-06_robots#100_alpha#1.8_rho#0.9_1800\n",
      "Num robots: 100\n",
      "Saving concatenated positions at: /home/luigi/Documents/ARGoS/argos-LMCRW-script/results/JAN_2023/pos_pkl/Simulated/bouncing_angle/2022-12-06_robots#100_alpha#1.8_rho#0.9_1800.npy\n",
      "\u001b[34mDirName:\u001b[0m /home/luigi/Documents/ARGoS/argos-LMCRW-script/results/JAN_2023/Simulated/bouncing_angle/2022-12-06_robots#20_alpha#1.4_rho#0.0_1800\n",
      "Num robots: 20\n",
      "Saving concatenated positions at: /home/luigi/Documents/ARGoS/argos-LMCRW-script/results/JAN_2023/pos_pkl/Simulated/bouncing_angle/2022-12-06_robots#20_alpha#1.4_rho#0.0_1800.npy\n",
      "\u001b[34mDirName:\u001b[0m /home/luigi/Documents/ARGoS/argos-LMCRW-script/results/JAN_2023/Simulated/bouncing_angle/2022-12-06_robots#10_alpha#2.0_rho#0.0_1800\n",
      "Num robots: 10\n",
      "Saving concatenated positions at: /home/luigi/Documents/ARGoS/argos-LMCRW-script/results/JAN_2023/pos_pkl/Simulated/bouncing_angle/2022-12-06_robots#10_alpha#2.0_rho#0.0_1800.npy\n",
      "\u001b[34mDirName:\u001b[0m /home/luigi/Documents/ARGoS/argos-LMCRW-script/results/JAN_2023/Simulated/bouncing_angle/2022-12-06_robots#10_alpha#1.2_rho#0.6_1800\n",
      "Num robots: 10\n",
      "Saving concatenated positions at: /home/luigi/Documents/ARGoS/argos-LMCRW-script/results/JAN_2023/pos_pkl/Simulated/bouncing_angle/2022-12-06_robots#10_alpha#1.2_rho#0.6_1800.npy\n",
      "\u001b[34mDirName:\u001b[0m /home/luigi/Documents/ARGoS/argos-LMCRW-script/results/JAN_2023/Simulated/bouncing_angle/2022-12-06_robots#10_alpha#1.6_rho#0.0_1800\n",
      "Num robots: 10\n",
      "Saving concatenated positions at: /home/luigi/Documents/ARGoS/argos-LMCRW-script/results/JAN_2023/pos_pkl/Simulated/bouncing_angle/2022-12-06_robots#10_alpha#1.6_rho#0.0_1800.npy\n",
      "\u001b[34mDirName:\u001b[0m /home/luigi/Documents/ARGoS/argos-LMCRW-script/results/JAN_2023/Simulated/bouncing_angle/2022-12-06_robots#10_alpha#1.8_rho#0.0_1800\n",
      "Num robots: 10\n",
      "Saving concatenated positions at: /home/luigi/Documents/ARGoS/argos-LMCRW-script/results/JAN_2023/pos_pkl/Simulated/bouncing_angle/2022-12-06_robots#10_alpha#1.8_rho#0.0_1800.npy\n",
      "\u001b[34mDirName:\u001b[0m /home/luigi/Documents/ARGoS/argos-LMCRW-script/results/JAN_2023/Simulated/bouncing_angle/2022-12-06_robots#20_alpha#1.2_rho#0.9_1800\n",
      "Num robots: 20\n"
     ]
    },
    {
     "name": "stdout",
     "output_type": "stream",
     "text": [
      "Saving concatenated positions at: /home/luigi/Documents/ARGoS/argos-LMCRW-script/results/JAN_2023/pos_pkl/Simulated/bouncing_angle/2022-12-06_robots#20_alpha#1.2_rho#0.9_1800.npy\n",
      "\u001b[34mDirName:\u001b[0m /home/luigi/Documents/ARGoS/argos-LMCRW-script/results/JAN_2023/Simulated/bouncing_angle/2022-12-06_robots#100_alpha#1.8_rho#0.3_1800\n",
      "Num robots: 100\n",
      "Saving concatenated positions at: /home/luigi/Documents/ARGoS/argos-LMCRW-script/results/JAN_2023/pos_pkl/Simulated/bouncing_angle/2022-12-06_robots#100_alpha#1.8_rho#0.3_1800.npy\n",
      "\u001b[34mDirName:\u001b[0m /home/luigi/Documents/ARGoS/argos-LMCRW-script/results/JAN_2023/Simulated/bouncing_angle/2022-12-06_robots#10_alpha#1.6_rho#0.6_1800\n",
      "Num robots: 10\n",
      "Saving concatenated positions at: /home/luigi/Documents/ARGoS/argos-LMCRW-script/results/JAN_2023/pos_pkl/Simulated/bouncing_angle/2022-12-06_robots#10_alpha#1.6_rho#0.6_1800.npy\n",
      "\u001b[34mDirName:\u001b[0m /home/luigi/Documents/ARGoS/argos-LMCRW-script/results/JAN_2023/Simulated/bouncing_angle/2022-12-06_robots#50_alpha#2.0_rho#0.9_1800\n",
      "Num robots: 50\n",
      "Saving concatenated positions at: /home/luigi/Documents/ARGoS/argos-LMCRW-script/results/JAN_2023/pos_pkl/Simulated/bouncing_angle/2022-12-06_robots#50_alpha#2.0_rho#0.9_1800.npy\n",
      "\u001b[34mDirName:\u001b[0m /home/luigi/Documents/ARGoS/argos-LMCRW-script/results/JAN_2023/Simulated/bouncing_angle/2022-12-06_robots#50_alpha#1.6_rho#0.6_1800\n",
      "Num robots: 50\n",
      "Saving concatenated positions at: /home/luigi/Documents/ARGoS/argos-LMCRW-script/results/JAN_2023/pos_pkl/Simulated/bouncing_angle/2022-12-06_robots#50_alpha#1.6_rho#0.6_1800.npy\n",
      "\u001b[34mDirName:\u001b[0m /home/luigi/Documents/ARGoS/argos-LMCRW-script/results/JAN_2023/Simulated/bouncing_angle/2022-12-06_robots#100_alpha#1.6_rho#0.6_1800\n",
      "Num robots: 100\n",
      "Saving concatenated positions at: /home/luigi/Documents/ARGoS/argos-LMCRW-script/results/JAN_2023/pos_pkl/Simulated/bouncing_angle/2022-12-06_robots#100_alpha#1.6_rho#0.6_1800.npy\n",
      "\u001b[34mDirName:\u001b[0m /home/luigi/Documents/ARGoS/argos-LMCRW-script/results/JAN_2023/Simulated/bouncing_angle/2022-12-06_robots#50_alpha#1.8_rho#0.9_1800\n",
      "Num robots: 50\n",
      "Saving concatenated positions at: /home/luigi/Documents/ARGoS/argos-LMCRW-script/results/JAN_2023/pos_pkl/Simulated/bouncing_angle/2022-12-06_robots#50_alpha#1.8_rho#0.9_1800.npy\n",
      "\u001b[34mDirName:\u001b[0m /home/luigi/Documents/ARGoS/argos-LMCRW-script/results/JAN_2023/Simulated/bouncing_angle/2022-12-06_robots#20_alpha#2.0_rho#0.0_1800\n",
      "Num robots: 20\n",
      "Saving concatenated positions at: /home/luigi/Documents/ARGoS/argos-LMCRW-script/results/JAN_2023/pos_pkl/Simulated/bouncing_angle/2022-12-06_robots#20_alpha#2.0_rho#0.0_1800.npy\n",
      "\u001b[34mDirName:\u001b[0m /home/luigi/Documents/ARGoS/argos-LMCRW-script/results/JAN_2023/Simulated/bouncing_angle/2022-12-06_robots#50_alpha#1.2_rho#0.0_1800\n",
      "Num robots: 50\n",
      "Saving concatenated positions at: /home/luigi/Documents/ARGoS/argos-LMCRW-script/results/JAN_2023/pos_pkl/Simulated/bouncing_angle/2022-12-06_robots#50_alpha#1.2_rho#0.0_1800.npy\n",
      "\u001b[34mDirName:\u001b[0m /home/luigi/Documents/ARGoS/argos-LMCRW-script/results/JAN_2023/Simulated/bouncing_angle/2022-12-06_robots#50_alpha#2.0_rho#0.3_1800\n",
      "Num robots: 50\n",
      "Saving concatenated positions at: /home/luigi/Documents/ARGoS/argos-LMCRW-script/results/JAN_2023/pos_pkl/Simulated/bouncing_angle/2022-12-06_robots#50_alpha#2.0_rho#0.3_1800.npy\n",
      "\u001b[34mDirName:\u001b[0m /home/luigi/Documents/ARGoS/argos-LMCRW-script/results/JAN_2023/Simulated/bouncing_angle/2022-12-06_robots#100_alpha#2.0_rho#0.9_1800\n",
      "Num robots: 100\n",
      "Saving concatenated positions at: /home/luigi/Documents/ARGoS/argos-LMCRW-script/results/JAN_2023/pos_pkl/Simulated/bouncing_angle/2022-12-06_robots#100_alpha#2.0_rho#0.9_1800.npy\n",
      "\u001b[34mDirName:\u001b[0m /home/luigi/Documents/ARGoS/argos-LMCRW-script/results/JAN_2023/Simulated/bouncing_angle/2022-12-06_robots#100_alpha#1.2_rho#0.0_1800\n",
      "Num robots: 100\n",
      "Saving concatenated positions at: /home/luigi/Documents/ARGoS/argos-LMCRW-script/results/JAN_2023/pos_pkl/Simulated/bouncing_angle/2022-12-06_robots#100_alpha#1.2_rho#0.0_1800.npy\n",
      "\u001b[34mDirName:\u001b[0m /home/luigi/Documents/ARGoS/argos-LMCRW-script/results/JAN_2023/Simulated/bouncing_angle/2022-12-06_robots#10_alpha#1.2_rho#0.9_1800\n",
      "Num robots: 10\n",
      "Saving concatenated positions at: /home/luigi/Documents/ARGoS/argos-LMCRW-script/results/JAN_2023/pos_pkl/Simulated/bouncing_angle/2022-12-06_robots#10_alpha#1.2_rho#0.9_1800.npy\n",
      "\u001b[34mDirName:\u001b[0m /home/luigi/Documents/ARGoS/argos-LMCRW-script/results/JAN_2023/Simulated/bouncing_angle/2022-12-06_robots#20_alpha#1.2_rho#0.6_1800\n",
      "Num robots: 20\n",
      "Saving concatenated positions at: /home/luigi/Documents/ARGoS/argos-LMCRW-script/results/JAN_2023/pos_pkl/Simulated/bouncing_angle/2022-12-06_robots#20_alpha#1.2_rho#0.6_1800.npy\n",
      "\u001b[34mDirName:\u001b[0m /home/luigi/Documents/ARGoS/argos-LMCRW-script/results/JAN_2023/Simulated/bouncing_angle/2022-12-06_robots#20_alpha#1.6_rho#0.3_1800\n",
      "Num robots: 20\n",
      "Saving concatenated positions at: /home/luigi/Documents/ARGoS/argos-LMCRW-script/results/JAN_2023/pos_pkl/Simulated/bouncing_angle/2022-12-06_robots#20_alpha#1.6_rho#0.3_1800.npy\n",
      "\u001b[34mDirName:\u001b[0m /home/luigi/Documents/ARGoS/argos-LMCRW-script/results/JAN_2023/Simulated/bouncing_angle/2022-12-06_robots#100_alpha#1.4_rho#0.3_1800\n",
      "Num robots: 100\n",
      "Saving concatenated positions at: /home/luigi/Documents/ARGoS/argos-LMCRW-script/results/JAN_2023/pos_pkl/Simulated/bouncing_angle/2022-12-06_robots#100_alpha#1.4_rho#0.3_1800.npy\n",
      "\u001b[34mDirName:\u001b[0m /home/luigi/Documents/ARGoS/argos-LMCRW-script/results/JAN_2023/Simulated/bouncing_angle/2022-12-06_robots#20_alpha#1.8_rho#0.9_1800\n",
      "Num robots: 20\n",
      "Saving concatenated positions at: /home/luigi/Documents/ARGoS/argos-LMCRW-script/results/JAN_2023/pos_pkl/Simulated/bouncing_angle/2022-12-06_robots#20_alpha#1.8_rho#0.9_1800.npy\n",
      "\u001b[34mDirName:\u001b[0m /home/luigi/Documents/ARGoS/argos-LMCRW-script/results/JAN_2023/Simulated/bouncing_angle/2022-12-06_robots#100_alpha#1.2_rho#0.6_1800\n",
      "Num robots: 100\n",
      "Saving concatenated positions at: /home/luigi/Documents/ARGoS/argos-LMCRW-script/results/JAN_2023/pos_pkl/Simulated/bouncing_angle/2022-12-06_robots#100_alpha#1.2_rho#0.6_1800.npy\n",
      "\u001b[34mDirName:\u001b[0m /home/luigi/Documents/ARGoS/argos-LMCRW-script/results/JAN_2023/Simulated/bouncing_angle/2022-12-06_robots#10_alpha#1.8_rho#0.3_1800\n",
      "Num robots: 10\n",
      "Saving concatenated positions at: /home/luigi/Documents/ARGoS/argos-LMCRW-script/results/JAN_2023/pos_pkl/Simulated/bouncing_angle/2022-12-06_robots#10_alpha#1.8_rho#0.3_1800.npy\n",
      "\u001b[34mDirName:\u001b[0m /home/luigi/Documents/ARGoS/argos-LMCRW-script/results/JAN_2023/Simulated/bouncing_angle/2022-12-06_robots#50_alpha#2.0_rho#0.0_1800\n",
      "Num robots: 50\n",
      "Saving concatenated positions at: /home/luigi/Documents/ARGoS/argos-LMCRW-script/results/JAN_2023/pos_pkl/Simulated/bouncing_angle/2022-12-06_robots#50_alpha#2.0_rho#0.0_1800.npy\n",
      "\u001b[34mDirName:\u001b[0m /home/luigi/Documents/ARGoS/argos-LMCRW-script/results/JAN_2023/Simulated/bouncing_angle/2022-12-06_robots#20_alpha#1.8_rho#0.0_1800\n",
      "Num robots: 20\n",
      "Saving concatenated positions at: /home/luigi/Documents/ARGoS/argos-LMCRW-script/results/JAN_2023/pos_pkl/Simulated/bouncing_angle/2022-12-06_robots#20_alpha#1.8_rho#0.0_1800.npy\n",
      "\u001b[34mDirName:\u001b[0m /home/luigi/Documents/ARGoS/argos-LMCRW-script/results/JAN_2023/Simulated/bouncing_angle/2022-12-06_robots#50_alpha#1.6_rho#0.0_1800\n",
      "Num robots: 50\n",
      "Saving concatenated positions at: /home/luigi/Documents/ARGoS/argos-LMCRW-script/results/JAN_2023/pos_pkl/Simulated/bouncing_angle/2022-12-06_robots#50_alpha#1.6_rho#0.0_1800.npy\n",
      "\u001b[34mDirName:\u001b[0m /home/luigi/Documents/ARGoS/argos-LMCRW-script/results/JAN_2023/Simulated/bouncing_angle/2022-12-06_robots#100_alpha#2.0_rho#0.6_1800\n",
      "Num robots: 100\n",
      "Saving concatenated positions at: /home/luigi/Documents/ARGoS/argos-LMCRW-script/results/JAN_2023/pos_pkl/Simulated/bouncing_angle/2022-12-06_robots#100_alpha#2.0_rho#0.6_1800.npy\n",
      "\u001b[34mDirName:\u001b[0m /home/luigi/Documents/ARGoS/argos-LMCRW-script/results/JAN_2023/Simulated/bouncing_angle/2022-12-06_robots#20_alpha#2.0_rho#0.9_1800\n",
      "Num robots: 20\n",
      "Saving concatenated positions at: /home/luigi/Documents/ARGoS/argos-LMCRW-script/results/JAN_2023/pos_pkl/Simulated/bouncing_angle/2022-12-06_robots#20_alpha#2.0_rho#0.9_1800.npy\n",
      "\u001b[34mDirName:\u001b[0m /home/luigi/Documents/ARGoS/argos-LMCRW-script/results/JAN_2023/Simulated/bouncing_angle/2022-12-06_robots#100_alpha#1.8_rho#0.6_1800\n",
      "Num robots: 100\n"
     ]
    },
    {
     "name": "stdout",
     "output_type": "stream",
     "text": [
      "Saving concatenated positions at: /home/luigi/Documents/ARGoS/argos-LMCRW-script/results/JAN_2023/pos_pkl/Simulated/bouncing_angle/2022-12-06_robots#100_alpha#1.8_rho#0.6_1800.npy\n",
      "\u001b[34mDirName:\u001b[0m /home/luigi/Documents/ARGoS/argos-LMCRW-script/results/JAN_2023/Simulated/bouncing_angle/2022-12-06_robots#10_alpha#1.4_rho#0.0_1800\n",
      "Num robots: 10\n",
      "Saving concatenated positions at: /home/luigi/Documents/ARGoS/argos-LMCRW-script/results/JAN_2023/pos_pkl/Simulated/bouncing_angle/2022-12-06_robots#10_alpha#1.4_rho#0.0_1800.npy\n",
      "\u001b[34mDirName:\u001b[0m /home/luigi/Documents/ARGoS/argos-LMCRW-script/results/JAN_2023/Simulated/bouncing_angle/2022-12-06_robots#20_alpha#1.4_rho#0.9_1800\n",
      "Num robots: 20\n",
      "Saving concatenated positions at: /home/luigi/Documents/ARGoS/argos-LMCRW-script/results/JAN_2023/pos_pkl/Simulated/bouncing_angle/2022-12-06_robots#20_alpha#1.4_rho#0.9_1800.npy\n",
      "\u001b[34mDirName:\u001b[0m /home/luigi/Documents/ARGoS/argos-LMCRW-script/results/JAN_2023/Simulated/bouncing_angle/2022-12-06_robots#100_alpha#1.6_rho#0.3_1800\n",
      "Num robots: 100\n",
      "Saving concatenated positions at: /home/luigi/Documents/ARGoS/argos-LMCRW-script/results/JAN_2023/pos_pkl/Simulated/bouncing_angle/2022-12-06_robots#100_alpha#1.6_rho#0.3_1800.npy\n",
      "\u001b[34mDirName:\u001b[0m /home/luigi/Documents/ARGoS/argos-LMCRW-script/results/JAN_2023/Simulated/bouncing_angle/2022-12-06_robots#20_alpha#1.6_rho#0.6_1800\n",
      "Num robots: 20\n",
      "Saving concatenated positions at: /home/luigi/Documents/ARGoS/argos-LMCRW-script/results/JAN_2023/pos_pkl/Simulated/bouncing_angle/2022-12-06_robots#20_alpha#1.6_rho#0.6_1800.npy\n",
      "\u001b[34mDirName:\u001b[0m /home/luigi/Documents/ARGoS/argos-LMCRW-script/results/JAN_2023/Simulated/bouncing_angle/2022-12-06_robots#20_alpha#1.6_rho#0.0_1800\n",
      "Num robots: 20\n",
      "Saving concatenated positions at: /home/luigi/Documents/ARGoS/argos-LMCRW-script/results/JAN_2023/pos_pkl/Simulated/bouncing_angle/2022-12-06_robots#20_alpha#1.6_rho#0.0_1800.npy\n",
      "\u001b[34mDirName:\u001b[0m /home/luigi/Documents/ARGoS/argos-LMCRW-script/results/JAN_2023/Simulated/bouncing_angle/2022-12-06_robots#100_alpha#1.4_rho#0.6_1800\n",
      "Num robots: 100\n",
      "Saving concatenated positions at: /home/luigi/Documents/ARGoS/argos-LMCRW-script/results/JAN_2023/pos_pkl/Simulated/bouncing_angle/2022-12-06_robots#100_alpha#1.4_rho#0.6_1800.npy\n",
      "\u001b[34mDirName:\u001b[0m /home/luigi/Documents/ARGoS/argos-LMCRW-script/results/JAN_2023/Simulated/bouncing_angle/2022-12-06_robots#20_alpha#2.0_rho#0.3_1800\n",
      "Num robots: 20\n",
      "Saving concatenated positions at: /home/luigi/Documents/ARGoS/argos-LMCRW-script/results/JAN_2023/pos_pkl/Simulated/bouncing_angle/2022-12-06_robots#20_alpha#2.0_rho#0.3_1800.npy\n",
      "\u001b[34mDirName:\u001b[0m /home/luigi/Documents/ARGoS/argos-LMCRW-script/results/JAN_2023/Simulated/bouncing_angle/2022-12-06_robots#50_alpha#1.2_rho#0.9_1800\n",
      "Num robots: 50\n",
      "Saving concatenated positions at: /home/luigi/Documents/ARGoS/argos-LMCRW-script/results/JAN_2023/pos_pkl/Simulated/bouncing_angle/2022-12-06_robots#50_alpha#1.2_rho#0.9_1800.npy\n"
     ]
    }
   ],
   "source": [
    "for dirName, subdirList, fileList in os.walk(os.path.join(data_folder, \"Simulated\", experiment)):\n",
    "        if '1800' not in dirName:\n",
    "            continue\n",
    "            \n",
    "        print(colored(\"DirName:\", 'blue'), dirName)\n",
    "        n_robots = int(dirName.split('/')[-1].split('_')[1].split('#')[-1])\n",
    "        print(f\"Num robots: {n_robots}\")\n",
    "        \n",
    "        np_concatenatedPos = np.array([])\n",
    "        for fileName in natsorted(fileList):\n",
    "            if fileName.endswith('kiloLOG.txt'):\n",
    "                \n",
    "                # print(colored(\"\\tfileName:\", 'blue'), fileName)\n",
    "                if not os.path.getsize(os.path.join(dirName, fileName)) > 0:\n",
    "                    print(\"Error, empty file at:\" + os.path.join(fileList, fileName))\n",
    "                    continue\n",
    "                \n",
    "\n",
    "                df_single = pd.read_csv(os.path.join(dirName, fileName), sep=\"\\t\", header=None)\n",
    "                df_single = df_single.dropna(axis=1)\n",
    "                df_single.columns = get_robotDf_label(n_robots)\n",
    "                \n",
    "                np_pos = df_single[get_robotPos_label(n_robots)].values\n",
    "                \n",
    "                np_concatenatedPos = np.column_stack((np_concatenatedPos, np_pos)) if np_concatenatedPos.size else np_pos\n",
    "                # print(f\"\\tnp_concatenatedPos shape {np_concatenatedPos.shape}\")\n",
    "                \n",
    "        \n",
    "        \n",
    "        directory = os.path.join(data_folder, \"pos_pkl\", \"Simulated\", experiment)\n",
    "        if not os.path.exists(directory):\n",
    "            print(colored(f\"Mkdir folder {directory}\", 'green'))\n",
    "            os.makedirs(directory)\n",
    "        \n",
    "        storagePath=os.path.join(directory, dirName.split('/')[-1]+'.npy')\n",
    "        \n",
    "        reshape_concatenated = np_concatenatedPos.reshape(np_concatenatedPos.shape[0], -1, 2)\n",
    "#         print(f\"reshape_concatenated shape: {reshape_concatenated.shape}\")\n",
    "        \n",
    "        print(f\"Saving concatenated positions at: {storagePath}\")\n",
    "        with open(storagePath, 'wb') as f:\n",
    "            np.save(f, reshape_concatenated)\n",
    "            \n",
    "        "
   ]
  },
  {
   "cell_type": "code",
   "execution_count": 155,
   "metadata": {},
   "outputs": [
    {
     "data": {
      "text/plain": [
       "'/home/luigi/Documents/ARGoS/argos-LMCRW-script/results/JAN_2023/pos_pkl/Simulated/random_angle'"
      ]
     },
     "execution_count": 155,
     "metadata": {},
     "output_type": "execute_result"
    }
   ],
   "source": [
    "directory"
   ]
  },
  {
   "cell_type": "code",
   "execution_count": 157,
   "metadata": {},
   "outputs": [],
   "source": [
    "temp_dir = '/home/luigi/Documents/ARGoS/argos-LMCRW-script/results/JAN_2023/pos_pkl/Simulated/baseline'"
   ]
  },
  {
   "cell_type": "code",
   "execution_count": 158,
   "metadata": {},
   "outputs": [],
   "source": [
    "temp_file = 'baseline_2021-10-13_robots#1_alpha#1.2_rho#0.0_baseline_1800simulated_pos.npy'"
   ]
  },
  {
   "cell_type": "code",
   "execution_count": 159,
   "metadata": {},
   "outputs": [],
   "source": [
    "file_Path = os.path.join(temp_dir, temp_file)"
   ]
  },
  {
   "cell_type": "code",
   "execution_count": 160,
   "metadata": {},
   "outputs": [],
   "source": [
    "with open(file_Path, 'rb') as f:\n",
    "    boh = np.load(f)"
   ]
  },
  {
   "cell_type": "code",
   "execution_count": 161,
   "metadata": {},
   "outputs": [
    {
     "data": {
      "text/plain": [
       "(181, 500, 2)"
      ]
     },
     "execution_count": 161,
     "metadata": {},
     "output_type": "execute_result"
    }
   ],
   "source": [
    "boh.shape"
   ]
  },
  {
   "cell_type": "code",
   "execution_count": 178,
   "metadata": {},
   "outputs": [
    {
     "data": {
      "text/plain": [
       "array([[[-0.003, -0.011],\n",
       "        [ 0.   , -0.003],\n",
       "        [ 0.01 ,  0.004],\n",
       "        [ 0.001, -0.002]],\n",
       "\n",
       "       [[ 0.007, -0.077],\n",
       "        [-0.001,  0.006],\n",
       "        [-0.045, -0.016],\n",
       "        [-0.068,  0.049]],\n",
       "\n",
       "       [[-0.041, -0.163],\n",
       "        [-0.053,  0.046],\n",
       "        [-0.046, -0.081],\n",
       "        [-0.123,  0.006]]])"
      ]
     },
     "execution_count": 178,
     "metadata": {},
     "output_type": "execute_result"
    }
   ],
   "source": [
    "boh[:3, :4, :]"
   ]
  },
  {
   "cell_type": "code",
   "execution_count": 181,
   "metadata": {},
   "outputs": [],
   "source": [
    "boh1 = boh[:3, :4, :]"
   ]
  },
  {
   "cell_type": "code",
   "execution_count": 182,
   "metadata": {},
   "outputs": [
    {
     "data": {
      "text/plain": [
       "(3, 4, 2)"
      ]
     },
     "execution_count": 182,
     "metadata": {},
     "output_type": "execute_result"
    }
   ],
   "source": [
    "boh1.shape"
   ]
  },
  {
   "cell_type": "code",
   "execution_count": 184,
   "metadata": {},
   "outputs": [
    {
     "data": {
      "text/plain": [
       "array([[-0.003, -0.011,  0.   , -0.003,  0.01 ,  0.004,  0.001, -0.002],\n",
       "       [ 0.007, -0.077, -0.001,  0.006, -0.045, -0.016, -0.068,  0.049],\n",
       "       [-0.041, -0.163, -0.053,  0.046, -0.046, -0.081, -0.123,  0.006]])"
      ]
     },
     "execution_count": 184,
     "metadata": {},
     "output_type": "execute_result"
    }
   ],
   "source": [
    "boh1.reshape(boh1.shape[0], -1)"
   ]
  },
  {
   "cell_type": "code",
   "execution_count": null,
   "metadata": {},
   "outputs": [],
   "source": []
  },
  {
   "cell_type": "code",
   "execution_count": 188,
   "metadata": {},
   "outputs": [
    {
     "data": {
      "text/plain": [
       "(181, 10000)"
      ]
     },
     "execution_count": 188,
     "metadata": {},
     "output_type": "execute_result"
    }
   ],
   "source": [
    "np_concatenatedPos.shape"
   ]
  },
  {
   "cell_type": "code",
   "execution_count": 191,
   "metadata": {},
   "outputs": [
    {
     "data": {
      "text/plain": [
       "array([[ 0.0637, -0.1603, -0.3212,  0.1757,  0.3731, -0.0616],\n",
       "       [ 0.1052, -0.165 , -0.346 ,  0.2455,  0.3382,  0.0279],\n",
       "       [ 0.1378, -0.0822, -0.2658,  0.233 ,  0.3945,  0.1086]])"
      ]
     },
     "execution_count": 191,
     "metadata": {},
     "output_type": "execute_result"
    }
   ],
   "source": [
    "np_concatenatedPos[:3,:6]"
   ]
  },
  {
   "cell_type": "code",
   "execution_count": 193,
   "metadata": {},
   "outputs": [
    {
     "data": {
      "text/plain": [
       "(3, 3, 2)"
      ]
     },
     "execution_count": 193,
     "metadata": {},
     "output_type": "execute_result"
    }
   ],
   "source": [
    "temp1 = np_concatenatedPos[:3,:6]\n",
    "temp1 = temp1.reshape(temp1.shape[0], -1, 2)\n",
    "temp1.shape"
   ]
  },
  {
   "cell_type": "code",
   "execution_count": null,
   "metadata": {},
   "outputs": [],
   "source": []
  }
 ],
 "metadata": {
  "kernelspec": {
   "display_name": "Python 3",
   "language": "python",
   "name": "python3"
  },
  "language_info": {
   "codemirror_mode": {
    "name": "ipython",
    "version": 3
   },
   "file_extension": ".py",
   "mimetype": "text/x-python",
   "name": "python",
   "nbconvert_exporter": "python",
   "pygments_lexer": "ipython3",
   "version": "3.8.10"
  }
 },
 "nbformat": 4,
 "nbformat_minor": 4
}
